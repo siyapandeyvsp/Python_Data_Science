{
 "cells": [
  {
   "cell_type": "markdown",
   "metadata": {},
   "source": [
    "# Conditions\n",
    "\n",
    "### indentation (PeP8)\n",
    "indentation is the way to tell python that a block of code is related to a control structure. This is done by indenting the code with a tab or 4 spaces. The indentation is removed when the block ends."
   ]
  },
  {
   "cell_type": "markdown",
   "metadata": {},
   "source": [
    "```\n",
    "if condition:\n",
    "    # code\n",
    "\n",
    "else:\n",
    "    code\n",
    "\n",
    "elif condition:\n",
    "    # code\n",
    "\n",
    "match value:\n",
    "    case condition:\n",
    "        # code\n",
    "\n",
    "for expression:\n",
    "    # code\n",
    "\n",
    "while condition:\n",
    "    # code\n",
    "\n",
    "try:\n",
    "    # code\n",
    "\n",
    "except:\n",
    "    # code\n",
    "\n",
    "finally:\n",
    "    # code\n",
    "\n",
    "with expression:\n",
    "    # code\n",
    "\n",
    "def function():\n",
    "    # code\n",
    "\n",
    "class ClassName:\n",
    "    # code\n",
    "```"
   ]
  },
  {
   "cell_type": "code",
   "execution_count": 1,
   "metadata": {},
   "outputs": [
    {
     "name": "stdout",
     "output_type": "stream",
     "text": [
      "x is greater than 3\n"
     ]
    }
   ],
   "source": [
    "x = 10\n",
    "if x > 3:\n",
    "    print('x is greater than 3')"
   ]
  },
  {
   "cell_type": "code",
   "execution_count": 2,
   "metadata": {},
   "outputs": [],
   "source": [
    "if x < x - 3:\n",
    "    print('x is less than x - 3')"
   ]
  },
  {
   "cell_type": "code",
   "execution_count": 4,
   "metadata": {},
   "outputs": [
    {
     "name": "stdout",
     "output_type": "stream",
     "text": [
      "lo is in x\n"
     ]
    }
   ],
   "source": [
    "x='hello'\n",
    "if 'lo' in x:\n",
    "    print (\"lo is in x\")\n",
    "else:\n",
    "    print(\"lo not found \")\n"
   ]
  },
  {
   "cell_type": "code",
   "execution_count": 3,
   "metadata": {},
   "outputs": [
    {
     "name": "stdout",
     "output_type": "stream",
     "text": [
      "x is equal to 10\n",
      "x is greater than 10\n"
     ]
    }
   ],
   "source": [
    "if x == 5:\n",
    "    print('x is equal to 5')\n",
    "if x == 10:\n",
    "    print('x is equal to 10')\n",
    "if x >= 10:\n",
    "    print('x is greater than 10')"
   ]
  },
  {
   "cell_type": "code",
   "execution_count": null,
   "metadata": {},
   "outputs": [],
   "source": [
    "username = input(\"enter username\")\n",
    "password = input(\"enter password\")\n",
    "if username:\n",
    "    if password:\n",
    "        if username == 'Alex' and password == 'Alexa':\n",
    "            print(\"Login successful\")"
   ]
  },
  {
   "cell_type": "code",
   "execution_count": 9,
   "metadata": {},
   "outputs": [
    {
     "name": "stdout",
     "output_type": "stream",
     "text": [
      "✅Login successful\n"
     ]
    }
   ],
   "source": [
    "username = input(\"enter username\")\n",
    "password = input(\"enter password\")\n",
    "if username:\n",
    "    if password:\n",
    "        if username == 'Alex' and password == 'Alexa':\n",
    "            print(\"✅Login successful\")\n",
    "        else:\n",
    "            print(\"❌Login failed\")\n",
    "    else:\n",
    "        print(\"🔑Password is empty\")\n",
    "else:\n",
    "    print(\"👤Username is empty\")"
   ]
  },
  {
   "cell_type": "code",
   "execution_count": 13,
   "metadata": {},
   "outputs": [
    {
     "name": "stdout",
     "output_type": "stream",
     "text": [
      "Sunday is my day off 🏖\n"
     ]
    }
   ],
   "source": [
    "offday = input(\"enter your off day:\")\n",
    "match(offday):\n",
    "    case 'Sunday': \n",
    "        print(\"Sunday is my day off 🏖\")\n",
    "    case 'Wednesday':\n",
    "        print(\"Wednesday is my day off 🏖\")\n",
    "    case 'Saturday':\n",
    "        print(\"Saturday is my day off 🏖\")\n",
    "    case 'Thursday':\n",
    "        print(\"Thursday is my day off 🏖\")\n",
    "    case 'Friday':\n",
    "        print(\"Friday is my day off 🏖\")\n",
    "    case 'Tuesday':\n",
    "        print(\"Tuesday is my day off 🏖\")\n",
    "    case 'Monday':\n",
    "        print(\"Monday is my day off 🏖\")\n",
    "    case _:\n",
    "        print(\"I have no day off 😭\")"
   ]
  },
  {
   "cell_type": "code",
   "execution_count": 1,
   "metadata": {},
   "outputs": [
    {
     "name": "stdout",
     "output_type": "stream",
     "text": [
      "Take your medicines \n"
     ]
    }
   ],
   "source": [
    "had_lunch=input(\"Did you have lunch? (y/n): \")\n",
    "had_medicine = input(\"Did you take your medicines? (y/n) : \")\n",
    "if had_lunch== 'y':\n",
    "    if had_medicine == 'y':\n",
    "        print('Very Good')\n",
    "    else:\n",
    "        print('Take your medicines ')    \n",
    "else:\n",
    "    print('Have your lunch or die')"
   ]
  },
  {
   "cell_type": "code",
   "execution_count": 10,
   "metadata": {},
   "outputs": [
    {
     "name": "stdout",
     "output_type": "stream",
     "text": [
      "What kind of icecream flavour would you like?\n",
      "1.Chocolate\n",
      "2.Vanilla\n",
      "3.Strawberry\n",
      "4.Butterscotch\n",
      "5.Fruit n Nut\n",
      "you have selected Vanilla flavour\n",
      "you have to pay 20rupees\n"
     ]
    }
   ],
   "source": [
    "print ('What kind of icecream flavour would you like?')\n",
    "print(f'1.Chocolate')\n",
    "print(f'2.Vanilla')\n",
    "print(f'3.Strawberry')\n",
    "print(f'4.Butterscotch')\n",
    "print(f'5.Fruit n Nut')\n",
    "choice = input('Enter your choice:')\n",
    "match choice:\n",
    "    case 'Chocolate':\n",
    "        cost=35\n",
    "    case 'Vanilla':\n",
    "        cost=20\n",
    "    case 'Strawberry':\n",
    "        cost=25\n",
    "    case 'Butterscoth':\n",
    "        cost=35\n",
    "    case 'Fruit n Nut':\n",
    "        cost=40\n",
    "    case _:\n",
    "        print('flavour not found')\n",
    "        cost = 0\n",
    "print(f'you have selected {choice} flavour')\n",
    "print(f'you have to pay {cost}rupees')\n",
    "\n"
   ]
  },
  {
   "cell_type": "code",
   "execution_count": 12,
   "metadata": {},
   "outputs": [
    {
     "name": "stdout",
     "output_type": "stream",
     "text": [
      "you have to pay 8000.0 rupees\n"
     ]
    }
   ],
   "source": [
    "weight= float(input('how much apple do you want(kg)'))\n",
    "if weight == 1:price =110 #only one line\n",
    "elif weight >=2 and weight <=5:price = 100 *weight\n",
    "elif weight >=6 :price=80*weight\n",
    "print(f'you have to pay {price} rupees')"
   ]
  },
  {
   "cell_type": "code",
   "execution_count": null,
   "metadata": {},
   "outputs": [],
   "source": [
    "#to handle both if and else in single line\n",
    "#similar to ternary in other languages..\n",
    "x=12\n",
    "print('x is even') if x%2 ==0 else print('x is odd')"
   ]
  },
  {
   "cell_type": "code",
   "execution_count": null,
   "metadata": {},
   "outputs": [],
   "source": []
  }
 ],
 "metadata": {
  "kernelspec": {
   "display_name": "base",
   "language": "python",
   "name": "python3"
  },
  "language_info": {
   "codemirror_mode": {
    "name": "ipython",
    "version": 3
   },
   "file_extension": ".py",
   "mimetype": "text/x-python",
   "name": "python",
   "nbconvert_exporter": "python",
   "pygments_lexer": "ipython3",
   "version": "3.11.4"
  },
  "orig_nbformat": 4
 },
 "nbformat": 4,
 "nbformat_minor": 2
}
