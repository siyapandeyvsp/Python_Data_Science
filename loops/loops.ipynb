{
 "cells": [
  {
   "cell_type": "markdown",
   "metadata": {},
   "source": [
    "loops\n",
    "- for loop\n",
    "- loop concepts\n",
    "   - break\n",
    "   - continue\n",
    "   - else\n",
    "   - enumerate\n",
    "   - zip\n",
    "- while loop"
   ]
  },
  {
   "cell_type": "markdown",
   "metadata": {},
   "source": [
    "```for loop syntax\n",
    "for temp_var in iterable:\n",
    "    statement1\n",
    "    statement2\n",
    "    ...\n",
    "```"
   ]
  },
  {
   "cell_type": "code",
   "execution_count": 1,
   "metadata": {},
   "outputs": [
    {
     "name": "stdout",
     "output_type": "stream",
     "text": [
      "red\n",
      "green\n",
      "yellow\n",
      "blue\n",
      "white\n",
      "black\n"
     ]
    }
   ],
   "source": [
    "colors=['red','green','yellow','blue','white','black'] #traversing loop \n",
    "for  color in colors:\n",
    "    print(color)"
   ]
  },
  {
   "cell_type": "code",
   "execution_count": 6,
   "metadata": {},
   "outputs": [
    {
     "name": "stdout",
     "output_type": "stream",
     "text": [
      "red        3 characters\n",
      "green      5 characters\n",
      "yellow     6 characters\n",
      "blue       4 characters\n",
      "white      5 characters\n",
      "black      5 characters\n"
     ]
    }
   ],
   "source": [
    "for color in colors:\n",
    "    size=len(color)\n",
    "    print(f'{color:10} {size} characters')"
   ]
  },
  {
   "cell_type": "code",
   "execution_count": 10,
   "metadata": {},
   "outputs": [
    {
     "name": "stdout",
     "output_type": "stream",
     "text": [
      "red\n",
      "green\n",
      "yellow\n",
      "blue\n",
      "white\n"
     ]
    }
   ],
   "source": [
    "for color in colors:\n",
    "    if 'e' in color:\n",
    "      print (color)\n"
   ]
  },
  {
   "cell_type": "code",
   "execution_count": 11,
   "metadata": {},
   "outputs": [
    {
     "name": "stdout",
     "output_type": "stream",
     "text": [
      "Alex\n",
      "Rahul\n",
      "Sonu\n",
      "Monu\n",
      "\n",
      "Raj\n",
      "Rohan\n",
      "\n",
      "\n"
     ]
    }
   ],
   "source": [
    "raw_data=['Alex','Rahul','Sonu','Monu','', 'Raj', 'Rohan','','']\n",
    "for name in raw_data:\n",
    "    print(name)"
   ]
  },
  {
   "cell_type": "markdown",
   "metadata": {},
   "source": [
    "continue is used for lengthy coded loops "
   ]
  },
  {
   "cell_type": "code",
   "execution_count": 12,
   "metadata": {},
   "outputs": [
    {
     "name": "stdout",
     "output_type": "stream",
     "text": [
      "Alex\n",
      "Rahul\n",
      "Sonu\n",
      "Monu\n",
      "Raj\n",
      "Rohan\n"
     ]
    }
   ],
   "source": [
    "for name in raw_data:\n",
    "    if not name:\n",
    "        continue #skip\n",
    "    print(name)"
   ]
  },
  {
   "cell_type": "markdown",
   "metadata": {},
   "source": [
    "'is' is used with memory locations comparision "
   ]
  },
  {
   "cell_type": "code",
   "execution_count": 15,
   "metadata": {},
   "outputs": [
    {
     "name": "stdout",
     "output_type": "stream",
     "text": [
      "Rahul\n",
      "Sonu\n",
      "Monu\n",
      "\n",
      "Raj\n",
      "Rohan\n",
      "\n",
      "\n"
     ]
    },
    {
     "name": "stderr",
     "output_type": "stream",
     "text": [
      "<>:2: SyntaxWarning: \"is\" with a literal. Did you mean \"==\"?\n",
      "<>:2: SyntaxWarning: \"is\" with a literal. Did you mean \"==\"?\n",
      "C:\\Users\\dell\\AppData\\Local\\Temp\\ipykernel_10892\\2528932655.py:2: SyntaxWarning: \"is\" with a literal. Did you mean \"==\"?\n",
      "  if name is 'Alex':\n"
     ]
    }
   ],
   "source": [
    "for name in raw_data:\n",
    "    if name is 'Alex':\n",
    "        continue #skip\n",
    "    print(name)"
   ]
  },
  {
   "cell_type": "markdown",
   "metadata": {},
   "source": [
    "break is used mostly for infinite loops\n",
    "mostly for while loops\n",
    "\n"
   ]
  },
  {
   "cell_type": "code",
   "execution_count": 16,
   "metadata": {},
   "outputs": [
    {
     "name": "stdout",
     "output_type": "stream",
     "text": [
      "2\n",
      "4\n",
      "6\n",
      "182\n",
      "56\n"
     ]
    }
   ],
   "source": [
    "numbers=[2,4,6,182,56,3,2,23,12,34,45,56]\n",
    "for i in numbers:\n",
    "    if i%2!=0:\n",
    "        break\n",
    "    print(i)"
   ]
  },
  {
   "cell_type": "markdown",
   "metadata": {},
   "source": [
    "Agregation logic\n",
    "do some calculation on multiple values and give a particular answer after performing logic\n",
    "- "
   ]
  },
  {
   "cell_type": "code",
   "execution_count": 18,
   "metadata": {},
   "outputs": [
    {
     "name": "stdout",
     "output_type": "stream",
     "text": [
      "2\n",
      "8\n",
      "48\n",
      "8736\n",
      "489216\n",
      "1467648\n",
      "2935296\n",
      "67511808\n",
      "810141696\n",
      "27544817664\n",
      "1239516794880\n",
      "69412940513280\n",
      "final answer is 69412940513280\n"
     ]
    }
   ],
   "source": [
    "total=1\n",
    "for i in numbers:\n",
    "    total*=i\n",
    "    print(total)\n",
    "\n",
    "print (f'final answer is {total}')"
   ]
  },
  {
   "cell_type": "code",
   "execution_count": 20,
   "metadata": {},
   "outputs": [
    {
     "name": "stdout",
     "output_type": "stream",
     "text": [
      "8\n"
     ]
    }
   ],
   "source": [
    "msg='this is a simple message with few words '\n",
    "c=0\n",
    "#count the number of spaces using loop\n",
    "for char in msg:\n",
    "    if char== \" \":\n",
    "        c=c+1\n",
    "print(c)"
   ]
  },
  {
   "cell_type": "code",
   "execution_count": 25,
   "metadata": {},
   "outputs": [
    {
     "data": {
      "text/plain": [
       "4"
      ]
     },
     "execution_count": 25,
     "metadata": {},
     "output_type": "execute_result"
    }
   ],
   "source": [
    "msg.count('e')"
   ]
  },
  {
   "cell_type": "code",
   "execution_count": 26,
   "metadata": {},
   "outputs": [
    {
     "name": "stdout",
     "output_type": "stream",
     "text": [
      "the final empire\n",
      "the well of scension\n",
      "the hero of ages\n"
     ]
    }
   ],
   "source": [
    "books=['the final empire', 'the well of scension','the hero of ages']\n",
    "for book in books:\n",
    "    print(book)"
   ]
  },
  {
   "cell_type": "markdown",
   "metadata": {},
   "source": [
    "in R language indexes start from 1"
   ]
  },
  {
   "cell_type": "code",
   "execution_count": 27,
   "metadata": {},
   "outputs": [
    {
     "name": "stdout",
     "output_type": "stream",
     "text": [
      "0 the final empire\n",
      "1 the well of scension\n",
      "2 the hero of ages\n"
     ]
    }
   ],
   "source": [
    "#bakwas code\n",
    "idx=0\n",
    "for book in books:\n",
    "    print(f'{idx} {book}')\n",
    "    idx+=1"
   ]
  },
  {
   "cell_type": "code",
   "execution_count": 28,
   "metadata": {},
   "outputs": [
    {
     "name": "stdout",
     "output_type": "stream",
     "text": [
      "0 the final empire\n",
      "1 the well of scension\n",
      "2 the hero of ages\n"
     ]
    }
   ],
   "source": [
    "#better code\n",
    "for i in range(len(books)):\n",
    "    print(f'{i} {books[i]}')"
   ]
  },
  {
   "cell_type": "markdown",
   "metadata": {},
   "source": [
    "enumerate takes two values instead of 1\n",
    "1st is the index value\n",
    "\n",
    "To enumerate a list in Python, you can use the enumerate() function. This function takes a list as its argument and returns a list of tuples. Each tuple contains the index of the element in the original list and the element itself.\n",
    "\n",
    "For example, if you have a list of names, you can use the enumerate() function to get a list of tuples containing the index of each name and the name itself.\n",
    "\n",
    "\n",
    "names = ['Alice', 'Bob', 'Carol', 'Dave']\n",
    "​\n",
    "for index, name in enumerate(names):\n",
    "  print(f'{index}: {name}')\n",
    "​\n",
    "\n",
    "Output:\n",
    "\n",
    "\n",
    "​\n",
    "0: Alice\n",
    "1: Bob\n",
    "2: Carol\n",
    "3: Dave\n",
    "​\n"
   ]
  },
  {
   "cell_type": "code",
   "execution_count": 29,
   "metadata": {},
   "outputs": [
    {
     "name": "stdout",
     "output_type": "stream",
     "text": [
      "0 the final empire\n",
      "1 the well of scension\n",
      "2 the hero of ages\n"
     ]
    }
   ],
   "source": [
    "#pythonic code\n",
    "for idx,val in enumerate(books):\n",
    "    print(f'{idx} {val}')"
   ]
  },
  {
   "cell_type": "code",
   "execution_count": null,
   "metadata": {},
   "outputs": [],
   "source": []
  }
 ],
 "metadata": {
  "kernelspec": {
   "display_name": "base",
   "language": "python",
   "name": "python3"
  },
  "language_info": {
   "codemirror_mode": {
    "name": "ipython",
    "version": 3
   },
   "file_extension": ".py",
   "mimetype": "text/x-python",
   "name": "python",
   "nbconvert_exporter": "python",
   "pygments_lexer": "ipython3",
   "version": "3.11.4"
  },
  "orig_nbformat": 4
 },
 "nbformat": 4,
 "nbformat_minor": 2
}
