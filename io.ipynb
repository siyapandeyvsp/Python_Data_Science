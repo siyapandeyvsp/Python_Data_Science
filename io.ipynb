{
 "cells": [
  {
   "cell_type": "markdown",
   "metadata": {},
   "source": [
    "- `print()`->output\n",
    "- `input()`->input\n",
    "\n"
   ]
  },
  {
   "cell_type": "code",
   "execution_count": 1,
   "metadata": {},
   "outputs": [],
   "source": [
    "name=\"Siya Pandey\"\n",
    "city= \"Lucknow\""
   ]
  },
  {
   "cell_type": "code",
   "execution_count": 2,
   "metadata": {},
   "outputs": [
    {
     "name": "stdout",
     "output_type": "stream",
     "text": [
      "Information about me\n",
      "Siya Pandey\n",
      "Lucknow\n"
     ]
    }
   ],
   "source": [
    "print(\"Information about me\")\n",
    "print(name)\n",
    "print(city)"
   ]
  },
  {
   "cell_type": "code",
   "execution_count": 3,
   "metadata": {},
   "outputs": [
    {
     "name": "stdout",
     "output_type": "stream",
     "text": [
      "Information about me :  Siya Pandey Lucknow\n"
     ]
    }
   ],
   "source": [
    "print('Information about me : ',name ,city)"
   ]
  },
  {
   "cell_type": "code",
   "execution_count": 4,
   "metadata": {},
   "outputs": [
    {
     "name": "stdout",
     "output_type": "stream",
     "text": [
      "I am Siya Pandey I live in  Lucknow\n"
     ]
    }
   ],
   "source": [
    "print('I am',name , 'I live in ' ,city) #dynamic printing #for kids\n"
   ]
  },
  {
   "cell_type": "code",
   "execution_count": 5,
   "metadata": {},
   "outputs": [
    {
     "name": "stdout",
     "output_type": "stream",
     "text": [
      "I am Siya Pandey and i live in Lucknow\n"
     ]
    }
   ],
   "source": [
    "print(f\"I am {name} and i live in {city}\")"
   ]
  },
  {
   "cell_type": "markdown",
   "metadata": {},
   "source": [
    "# formatted string\n",
    "these are special strings inpython,where we prepend f before the opening quote,making the string an f-string. we can then embed python expressions directly insise the string . The expressions are replaced with their values"
   ]
  },
  {
   "cell_type": "code",
   "execution_count": 7,
   "metadata": {},
   "outputs": [],
   "source": [
    "n1='vaibhav'\n",
    "c1='lucknow'\n",
    "n2,c2='Bhupendra','Lucknow'\n",
    "n3,c3='aman','nepal'"
   ]
  },
  {
   "cell_type": "markdown",
   "metadata": {},
   "source": [
    "# text alignment\n",
    "## text alignment\n",
    "### text alignment\n",
    "#### text alignment\n",
    "\n",
    "`:number` -> can be used to set the width of the particular variable printed\n",
    "\n",
    "\n",
    "`\">\"`-> is used to right align\n",
    "\n",
    "`\"^ carot\"` -> is used to align center"
   ]
  },
  {
   "cell_type": "markdown",
   "metadata": {},
   "source": []
  },
  {
   "cell_type": "code",
   "execution_count": 16,
   "metadata": {},
   "outputs": [
    {
     "name": "stdout",
     "output_type": "stream",
     "text": [
      "1.        vaibhav lucknow\n",
      "2.      Bhupendra Lucknow\n",
      "3.           aman nepal\n",
      "1.    vaibhav     lucknow\n",
      "2.   Bhupendra    Lucknow\n",
      "3.     aman       nepal\n"
     ]
    }
   ],
   "source": [
    "print(f'1.{n1:>15} {c1}')\n",
    "print(f'2.{n2:>15} {c2}')#comment\n",
    "print(f'3.{n3:>15} {c3}')\n",
    "print(f'1.{n1:^15} {c1}')\n",
    "print(f'2.{n2:^15} {c2}')#comment\n",
    "print(f'3.{n3:^15} {c3}')\n"
   ]
  },
  {
   "cell_type": "markdown",
   "metadata": {},
   "source": [
    "#### sep parameter\n",
    "used to set a seperation symbol between elements"
   ]
  },
  {
   "cell_type": "code",
   "execution_count": 21,
   "metadata": {},
   "outputs": [
    {
     "name": "stdout",
     "output_type": "stream",
     "text": [
      "vaibhav Bhupendra aman\n",
      "vaibhav\tBhupendra\taman\n",
      "vaibhav\n",
      "Bhupendra\n",
      "aman\n",
      "vaibhav,Bhupendra,aman\n"
     ]
    }
   ],
   "source": [
    "print(n1,n2,n3)\n",
    "print(n1,n2,n3 , sep='\\t')\n",
    "print(n1,n2,n3 , sep='\\n')\n",
    "print(n1,n2,n3 , sep=',')\n"
   ]
  },
  {
   "cell_type": "code",
   "execution_count": null,
   "metadata": {},
   "outputs": [],
   "source": []
  }
 ],
 "metadata": {
  "kernelspec": {
   "display_name": "base",
   "language": "python",
   "name": "python3"
  },
  "language_info": {
   "codemirror_mode": {
    "name": "ipython",
    "version": 3
   },
   "file_extension": ".py",
   "mimetype": "text/x-python",
   "name": "python",
   "nbconvert_exporter": "python",
   "pygments_lexer": "ipython3",
   "version": "3.11.4"
  },
  "orig_nbformat": 4
 },
 "nbformat": 4,
 "nbformat_minor": 2
}
